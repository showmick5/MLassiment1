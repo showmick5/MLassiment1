{
 "cells": [
  {
   "cell_type": "markdown",
   "id": "incomplete-newspaper",
   "metadata": {},
   "source": [
    "# Assignment\n",
    "### total fees 3 quarter, 1st q 40%, 2nd 30%, 3rd 30%, waiver acceptence 1st q, 2 q"
   ]
  },
  {
   "cell_type": "code",
   "execution_count": 1,
   "id": "nuclear-sandwich",
   "metadata": {},
   "outputs": [],
   "source": [
    "from abc import ABC, abstractmethod\n",
    "class Std_reg(ABC):\n",
    "    \n",
    "    @abstractmethod\n",
    "    def get_roll(self):\n",
    "        pass\n",
    "    \n",
    "    @abstractmethod\n",
    "    def get_name(self): \n",
    "        pass\n",
    "    \n",
    "    @abstractmethod\n",
    "    def get_dept(self):\n",
    "        pass\n",
    "    \n",
    "    @abstractmethod\n",
    "    def set_roll(self, roll):\n",
    "        pass\n",
    "    \n",
    "    @abstractmethod\n",
    "    def set_name(self, name):\n",
    "        pass\n",
    "    \n",
    "    @abstractmethod\n",
    "    def set_dept(self, dept):\n",
    "        pass"
   ]
  },
  {
   "cell_type": "code",
   "execution_count": 2,
   "id": "seventh-intelligence",
   "metadata": {},
   "outputs": [],
   "source": [
    "class Std_details(Std_reg):\n",
    "\n",
    "    def __init__(self):\n",
    "        self.__roll = int(input(\"Enter Your Roll Number: \"))\n",
    "        self.__name = str(input(\"Enter Your Name: \"))\n",
    "        self.__dept = str(input(\"Enter Your Deptartment :\"))\n",
    "        \n",
    "    def get_roll(self):\n",
    "        return self.__roll\n",
    "    \n",
    "    def get_name(self): \n",
    "        return self.__name\n",
    "  \n",
    "    def get_dept(self):\n",
    "        return self.__dept\n",
    "\n",
    "    def set_roll(self, roll):\n",
    "        self.__roll = roll\n",
    "    \n",
    "    def set_name(self, name):\n",
    "        self.__name = name\n",
    "    \n",
    "    def set_dept(self, dept):\n",
    "        self.__dept = dept\n"
   ]
  },
  {
   "cell_type": "code",
   "execution_count": 6,
   "id": "798d08b8",
   "metadata": {},
   "outputs": [],
   "source": [
    "class Account(Std_details):\n",
    "    def __init__(self):\n",
    "        super(Account, self).__init__()\n",
    "        self.__sem = (input(\"Enter Your Semister: \"))\n",
    "        self.__credit = int(input(\"Enter Your Credit: \"))\n",
    "        self.__credit_fees = int(input(\"Enter Your Credit fees: \"))\n",
    "        \n",
    "        self.__first_qpayment = int(input(\"Enter Your First Quarter Payment: \"))\n",
    "        self.__waiver = int(input(\"Enter Your  Waver: \"))\n",
    "        self.__total_fees = self.__credit*self.__credit_fees\n",
    "        self.__total_fees_after_waiver = self.__total_fees-self.__waiver\n",
    "        self.second_qamout=0\n",
    "        self.third_qamout =0\n",
    "        \n",
    "        if self.__waiver>0: \n",
    "            self.frist_qamout=self.__total_fees_after_waiver*0.4\n",
    "            self.advanced_payment=self.__first_qpayment-self.frist_qamout\n",
    "            if self.advanced_payment>0 :\n",
    "               \n",
    "                self.second_qamout = self.__total_fees_after_waiver*0.3 -self.advanced_payment\n",
    "                if self.second_qamout<0:\n",
    "                    self.advanced_payment = self.second_qamout*(-1)\n",
    "                    self.__second_qpayment=0\n",
    "                    self.third_qamout = self.__total_fees_after_waiver*0.3 -self.advanced_payment\n",
    "                    if self.third_qamout<0:\n",
    "                        self.advanced_payment=self.third_qamout\n",
    "                        self.third_qamout=0  \n",
    "                            \n",
    "                else:\n",
    "                    self.third_qamout=self.__total_fees_after_waiver*0.3\n",
    "                      \n",
    "        \n",
    "        \n",
    "        \n",
    "    def get_total_fees(self):\n",
    "        return self.__total_fees\n",
    "    def get_total_fees_after_waiver(self):\n",
    "            return self.__total_fees_after_waiver  \n",
    "    def get_waiver(self):\n",
    "            return self.__waiver\n",
    "    def get_first_qpayment(self):\n",
    "            return self.__first_qpayment\n",
    "    def get_first_qamount(self):\n",
    "            return self.frist_qamout  \n",
    "    def get_second_qamount(self):\n",
    "            return self.second_qamout \n",
    "    def get_third_qamount(self):\n",
    "            return self.third_qamout \n",
    "    def get_advanced_payment(self):\n",
    "            return self.advanced_payment     \n",
    "    def payment_detail(self):\n",
    "            total_sem_fees = self.get_total_fees()\n",
    "            secondq_due_amount = self.get_second_qamount()\n",
    "            third_due_amount = self.get_third_qamount()\n",
    "\n",
    "            return (\"Your Total Semister Fees: \"+str(total_sem_fees)+'Tk',\n",
    "                        \"Your Second quater due Pyment: \"+str(secondq_due_amount)+'Tk',\n",
    "                        \"Your Third quater due Pyment: \"+str(third_due_amount)+'Tk'\n",
    "                     )\n",
    "        \n",
    "    \n",
    "        \n",
    "        "
   ]
  },
  {
   "cell_type": "code",
   "execution_count": 7,
   "id": "funded-complexity",
   "metadata": {},
   "outputs": [
    {
     "name": "stdout",
     "output_type": "stream",
     "text": [
      "Enter Your Roll Number: 1\n",
      "Enter Your Name: showmick\n",
      "Enter Your Deptartment :CSE\n",
      "Enter Your Semister: 6\n",
      "Enter Your Credit: 11\n",
      "Enter Your Credit fees: 5000\n",
      "Enter Your First Quarter Payment: 20000\n",
      "Enter Your  Waver: 20000\n"
     ]
    }
   ],
   "source": [
    "std_acc = Account()"
   ]
  },
  {
   "cell_type": "code",
   "execution_count": 9,
   "id": "active-rachel",
   "metadata": {},
   "outputs": [
    {
     "data": {
      "text/plain": [
       "('Your Total Semister Fees: 55000Tk',\n",
       " 'Your Second quater due Pyment: 4500.0Tk',\n",
       " 'Your Third quater due Pyment: 10500.0Tk')"
      ]
     },
     "execution_count": 9,
     "metadata": {},
     "output_type": "execute_result"
    }
   ],
   "source": [
    "std_acc.payment_detail()"
   ]
  },
  {
   "cell_type": "code",
   "execution_count": null,
   "id": "5874902e",
   "metadata": {},
   "outputs": [],
   "source": []
  }
 ],
 "metadata": {
  "kernelspec": {
   "display_name": "Python 3",
   "language": "python",
   "name": "python3"
  },
  "language_info": {
   "codemirror_mode": {
    "name": "ipython",
    "version": 3
   },
   "file_extension": ".py",
   "mimetype": "text/x-python",
   "name": "python",
   "nbconvert_exporter": "python",
   "pygments_lexer": "ipython3",
   "version": "3.8.8"
  }
 },
 "nbformat": 4,
 "nbformat_minor": 5
}
