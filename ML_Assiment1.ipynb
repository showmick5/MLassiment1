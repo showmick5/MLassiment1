{
  "nbformat": 4,
  "nbformat_minor": 0,
  "metadata": {
    "colab": {
      "name": "ML_Assiment1.ipynb",
      "provenance": []
    },
    "kernelspec": {
      "name": "python3",
      "display_name": "Python 3"
    },
    "language_info": {
      "name": "python"
    }
  },
  "cells": [
    {
      "cell_type": "code",
      "metadata": {
        "colab": {
          "base_uri": "https://localhost:8080/"
        },
        "id": "MLk1oLKhla0-",
        "outputId": "4ca3a09a-e696-4d5a-bcac-f57d7d8332f5"
      },
      "source": [
        "## NO. 1.\n",
        "num1=int(input(\"Enter the Frist number \"))\n",
        "num2=int(input(\"Enter the Second number \"))\n",
        "product = num1*num2\n",
        "if product>1000:\n",
        "  print(\"The prodect is: \", product)\n",
        "else:\n",
        "  print(\"The sum is: \",num1+num2)  "
      ],
      "execution_count": 4,
      "outputs": [
        {
          "output_type": "stream",
          "name": "stdout",
          "text": [
            "Enter the Frist number 50\n",
            "Enter the Second number 80\n",
            "The prodect is:  4000\n"
          ]
        }
      ]
    },
    {
      "cell_type": "code",
      "metadata": {
        "colab": {
          "base_uri": "https://localhost:8080/"
        },
        "id": "uobGh0wJmqvl",
        "outputId": "dbd2d80b-d72f-461d-fd71-285a499be7e4"
      },
      "source": [
        "## NO. 2\n",
        "pre_num = 0\n",
        "for i in  list(range(10)):\n",
        "    sum = pre_num + i\n",
        "    print(\"The sum of the previous and present number: \",sum)\n",
        "    pre_num=i\n"
      ],
      "execution_count": 12,
      "outputs": [
        {
          "output_type": "stream",
          "name": "stdout",
          "text": [
            "The sum of the previous and present number:  0\n",
            "The sum of the previous and present number:  1\n",
            "The sum of the previous and present number:  3\n",
            "The sum of the previous and present number:  5\n",
            "The sum of the previous and present number:  7\n",
            "The sum of the previous and present number:  9\n",
            "The sum of the previous and present number:  11\n",
            "The sum of the previous and present number:  13\n",
            "The sum of the previous and present number:  15\n",
            "The sum of the previous and present number:  17\n"
          ]
        }
      ]
    },
    {
      "cell_type": "code",
      "metadata": {
        "colab": {
          "base_uri": "https://localhost:8080/"
        },
        "id": "d2h9jLfnn-dX",
        "outputId": "05abbcaf-8c10-4801-ca9a-19d42be6d1b1"
      },
      "source": [
        "## No. 3\n",
        "i=1\n",
        "while i<=10:\n",
        "  print(\"The natural numbers are: \",i)\n",
        "  i+=1"
      ],
      "execution_count": 20,
      "outputs": [
        {
          "output_type": "stream",
          "name": "stdout",
          "text": [
            "The natural numbers are:  1\n",
            "The natural numbers are:  2\n",
            "The natural numbers are:  3\n",
            "The natural numbers are:  4\n",
            "The natural numbers are:  5\n",
            "The natural numbers are:  6\n",
            "The natural numbers are:  7\n",
            "The natural numbers are:  8\n",
            "The natural numbers are:  9\n",
            "The natural numbers are:  10\n"
          ]
        }
      ]
    },
    {
      "cell_type": "code",
      "metadata": {
        "colab": {
          "base_uri": "https://localhost:8080/"
        },
        "id": "FMXGwurtosdv",
        "outputId": "77922f28-3ce5-4c25-f660-5cc5b065faa7"
      },
      "source": [
        "## No. 4\n",
        "num = int(input(\"Enter the num: \"))\n",
        "i=1\n",
        "sum=0\n",
        "while i!=num+1:\n",
        "    sum +=i\n",
        "    print(\"The sum is: \",sum)\n",
        "    i+=1\n",
        "print(\"The total sum: \",sum)    "
      ],
      "execution_count": 26,
      "outputs": [
        {
          "output_type": "stream",
          "name": "stdout",
          "text": [
            "Enter the num: 20\n",
            "The sum is:  1\n",
            "The sum is:  3\n",
            "The sum is:  6\n",
            "The sum is:  10\n",
            "The sum is:  15\n",
            "The sum is:  21\n",
            "The sum is:  28\n",
            "The sum is:  36\n",
            "The sum is:  45\n",
            "The sum is:  55\n",
            "The sum is:  66\n",
            "The sum is:  78\n",
            "The sum is:  91\n",
            "The sum is:  105\n",
            "The sum is:  120\n",
            "The sum is:  136\n",
            "The sum is:  153\n",
            "The sum is:  171\n",
            "The sum is:  190\n",
            "The sum is:  210\n",
            "The total sum:  210\n"
          ]
        }
      ]
    },
    {
      "cell_type": "code",
      "metadata": {
        "colab": {
          "base_uri": "https://localhost:8080/"
        },
        "id": "N180z6f-qFTr",
        "outputId": "89c32dcb-6f49-49b8-fd87-10c124e582ea"
      },
      "source": [
        "## No. 5\n",
        "lst =[10,20,40,50,70,80,160,90,75]\n",
        "for i in lst:\n",
        "  if i>150:\n",
        "    break\n",
        "  else:\n",
        "    print(\"The numbers divisible by five: \",i/5)  "
      ],
      "execution_count": 30,
      "outputs": [
        {
          "output_type": "stream",
          "name": "stdout",
          "text": [
            "The numbers divisible by five:  2.0\n",
            "The numbers divisible by five:  4.0\n",
            "The numbers divisible by five:  8.0\n",
            "The numbers divisible by five:  10.0\n",
            "The numbers divisible by five:  14.0\n",
            "The numbers divisible by five:  16.0\n"
          ]
        }
      ]
    },
    {
      "cell_type": "code",
      "metadata": {
        "colab": {
          "base_uri": "https://localhost:8080/"
        },
        "id": "v1KNXWxxr732",
        "outputId": "0e972290-fec6-4908-87a4-2634e12748ad"
      },
      "source": [
        "## No. 6\n",
        "lst = [20,25,15,80,70,65,40,86,92]\n",
        "\n",
        "for i in range(len(lst) // 2):\n",
        "    \n",
        "    lst[i], lst[-1 - i] = lst[-1 - i], lst[i]\n",
        "\n",
        "\n",
        "lst"
      ],
      "execution_count": 36,
      "outputs": [
        {
          "output_type": "execute_result",
          "data": {
            "text/plain": [
              "[92, 86, 40, 65, 70, 80, 15, 25, 20]"
            ]
          },
          "metadata": {},
          "execution_count": 36
        }
      ]
    },
    {
      "cell_type": "code",
      "metadata": {
        "colab": {
          "base_uri": "https://localhost:8080/"
        },
        "id": "H3WwxGHvsmiX",
        "outputId": "43bd8e2d-9f1c-454d-dd47-5809a41c9d6b"
      },
      "source": [
        "## NO. 7\n",
        "p1=\"My\"\n",
        "p2=\"Name\"\n",
        "p3=\"Is\"\n",
        "p4=\"James\"\n",
        "\n",
        "print(p1+\"**\"+p2+\"**\"+p3+\"**\"+p4)"
      ],
      "execution_count": 43,
      "outputs": [
        {
          "output_type": "stream",
          "name": "stdout",
          "text": [
            "My**Name**Is**James\n"
          ]
        }
      ]
    },
    {
      "cell_type": "code",
      "metadata": {
        "colab": {
          "base_uri": "https://localhost:8080/"
        },
        "id": "e-EZi9TuwaL2",
        "outputId": "aea75774-6e8f-454e-d280-2e06d4b8bae7"
      },
      "source": [
        "## NO. 8\n",
        "lst1 = [\"My \", \"IS\", \"Showmick\"]\n",
        "lst2 = ['Name','','']\n",
        "#con= lambda i,j:  zip(lst1,lst2)\n",
        "#con = [i + j for i, j in zip(lst1, lst2)]\n",
        "  \n",
        "print (\"The list after element concatenation is : \", map(lambda i,j: i+' '+j ,lst1,lst2))"
      ],
      "execution_count": 72,
      "outputs": [
        {
          "output_type": "stream",
          "name": "stdout",
          "text": [
            "The list after element concatenation is :  <map object at 0x7fdd06bbd410>\n"
          ]
        }
      ]
    },
    {
      "cell_type": "code",
      "metadata": {
        "colab": {
          "base_uri": "https://localhost:8080/"
        },
        "id": "i_u0rXim05Lv",
        "outputId": "c6419bb2-2d79-4172-b577-3bf906996d96"
      },
      "source": [
        "## NO. 8\n",
        "lst1 = [\"My \", \"IS\", \"Showmick\"]\n",
        "lst2 = ['Name','','']\n",
        "con = [i + j for i, j in zip(lst1, lst2)]\n",
        "  \n",
        "print (\"The list after element concatenation is : \" +  str(con))"
      ],
      "execution_count": 73,
      "outputs": [
        {
          "output_type": "stream",
          "name": "stdout",
          "text": [
            "The list after element concatenation is : ['My Name', 'IS', 'Showmick']\n"
          ]
        }
      ]
    },
    {
      "cell_type": "code",
      "metadata": {
        "colab": {
          "base_uri": "https://localhost:8080/"
        },
        "id": "6MpsCvG11LZK",
        "outputId": "87e5cf72-95ba-48c6-de7f-d2258ccdd676"
      },
      "source": [
        "## NO.9\n",
        "num = [4,5,7,8,9,7,1]\n",
        "\n",
        "squ_num = [number ** 2 for number in num]\n",
        "\n",
        "print(squ_num)"
      ],
      "execution_count": 76,
      "outputs": [
        {
          "output_type": "stream",
          "name": "stdout",
          "text": [
            "[16, 25, 49, 64, 81, 49, 1]\n"
          ]
        }
      ]
    },
    {
      "cell_type": "code",
      "metadata": {
        "colab": {
          "base_uri": "https://localhost:8080/"
        },
        "id": "cxMufnmt1tk3",
        "outputId": "1419eeef-eabc-4421-c42c-46e7c49954f4"
      },
      "source": [
        "## No. 10\n",
        "aTuple = (\"Orange\", [10, 20, 30], (5, 15, 25))\n",
        "print(aTuple[1][1])"
      ],
      "execution_count": 78,
      "outputs": [
        {
          "output_type": "stream",
          "name": "stdout",
          "text": [
            "20\n"
          ]
        }
      ]
    }
  ]
}